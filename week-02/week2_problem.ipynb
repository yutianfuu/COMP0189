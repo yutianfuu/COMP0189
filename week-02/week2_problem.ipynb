{
  "cells": [
    {
      "cell_type": "markdown",
      "metadata": {
        "id": "4dBGDz813T1S"
      },
      "source": [
        "# COMP0189: Applied Artificial Intelligence\n",
        "## Week 3 (Model Selection and Assessment)\n",
        "\n",
        "### After this week you will be able to ...\n",
        "- encode categorical values with one-hot encoding\n",
        "- know which encoding, scaling, and imputing method you should select in accordacne with the dataset characteristics\n",
        "- impute missing data with KNN\n",
        "- know how to streamline the preprocessing steps in advanced way (Pipeline and ColmnTransformer)\n",
        "- perform model selection using different cross-validation methods\n",
        "- perform model selection and model assessment using different partitions of the data\n",
        "\n",
        "### Acknowledgements\n",
        "- https://scikit-learn.org/stable/\n",
        "- https://archive.ics.uci.edu/ml/datasets/adult"
      ]
    },
    {
      "cell_type": "code",
      "execution_count": 1,
      "metadata": {
        "id": "4zs3aDLr3T1U"
      },
      "outputs": [],
      "source": [
        "import numpy as np\n",
        "import pandas as pd\n",
        "import matplotlib.pyplot as plt"
      ]
    },
    {
      "cell_type": "markdown",
      "metadata": {
        "id": "wO-p9am_3T1U"
      },
      "source": [
        "## Part 1: Encoding and Imputations"
      ]
    },
    {
      "cell_type": "markdown",
      "metadata": {
        "id": "Jafyf6di3T1U"
      },
      "source": [
        "### Task 1: Load and Split the Dataset into train and test"
      ]
    },
    {
      "cell_type": "code",
      "execution_count": 2,
      "metadata": {
        "colab": {
          "base_uri": "https://localhost:8080/",
          "height": 643
        },
        "id": "ve7h01Bx3T1U",
        "outputId": "38bb86e3-1d9c-4631-c6b5-04892451a0d3",
        "scrolled": false
      },
      "outputs": [
        {
          "output_type": "execute_result",
          "data": {
            "text/plain": [
              "       Age         Workclass  Fnlwgt   Education  Education-num  \\\n",
              "0       39         State-gov   77516   Bachelors             13   \n",
              "1       50  Self-emp-not-inc   83311   Bachelors             13   \n",
              "2       38           Private  215646     HS-grad              9   \n",
              "3       53           Private  234721        11th              7   \n",
              "4       28           Private  338409   Bachelors             13   \n",
              "...    ...               ...     ...         ...            ...   \n",
              "32556   27           Private  257302  Assoc-acdm             12   \n",
              "32557   40           Private  154374     HS-grad              9   \n",
              "32558   58           Private  151910     HS-grad              9   \n",
              "32559   22           Private  201490     HS-grad              9   \n",
              "32560   52      Self-emp-inc  287927     HS-grad              9   \n",
              "\n",
              "           Marital-status         Occupation   Relationship    Race     Sex  \\\n",
              "0           Never-married       Adm-clerical  Not-in-family   White    Male   \n",
              "1      Married-civ-spouse    Exec-managerial        Husband   White    Male   \n",
              "2                Divorced  Handlers-cleaners  Not-in-family   White    Male   \n",
              "3      Married-civ-spouse  Handlers-cleaners        Husband   Black    Male   \n",
              "4      Married-civ-spouse     Prof-specialty           Wife   Black  Female   \n",
              "...                   ...                ...            ...     ...     ...   \n",
              "32556  Married-civ-spouse       Tech-support           Wife   White  Female   \n",
              "32557  Married-civ-spouse  Machine-op-inspct        Husband   White    Male   \n",
              "32558             Widowed       Adm-clerical      Unmarried   White  Female   \n",
              "32559       Never-married       Adm-clerical      Own-child   White    Male   \n",
              "32560  Married-civ-spouse    Exec-managerial           Wife   White  Female   \n",
              "\n",
              "       Capital-gain  Capital-loss  Hours-per-week Native-country      Y  \n",
              "0              2174             0              40  United-States  <=50K  \n",
              "1                 0             0              13  United-States  <=50K  \n",
              "2                 0             0              40  United-States  <=50K  \n",
              "3                 0             0              40  United-States  <=50K  \n",
              "4                 0             0              40           Cuba  <=50K  \n",
              "...             ...           ...             ...            ...    ...  \n",
              "32556             0             0              38  United-States  <=50K  \n",
              "32557             0             0              40  United-States   >50K  \n",
              "32558             0             0              40  United-States  <=50K  \n",
              "32559             0             0              20  United-States  <=50K  \n",
              "32560         15024             0              40  United-States   >50K  \n",
              "\n",
              "[32561 rows x 15 columns]"
            ],
            "text/html": [
              "\n",
              "  <div id=\"df-3790657d-071b-4478-a07b-a4d973d96ca7\" class=\"colab-df-container\">\n",
              "    <div>\n",
              "<style scoped>\n",
              "    .dataframe tbody tr th:only-of-type {\n",
              "        vertical-align: middle;\n",
              "    }\n",
              "\n",
              "    .dataframe tbody tr th {\n",
              "        vertical-align: top;\n",
              "    }\n",
              "\n",
              "    .dataframe thead th {\n",
              "        text-align: right;\n",
              "    }\n",
              "</style>\n",
              "<table border=\"1\" class=\"dataframe\">\n",
              "  <thead>\n",
              "    <tr style=\"text-align: right;\">\n",
              "      <th></th>\n",
              "      <th>Age</th>\n",
              "      <th>Workclass</th>\n",
              "      <th>Fnlwgt</th>\n",
              "      <th>Education</th>\n",
              "      <th>Education-num</th>\n",
              "      <th>Marital-status</th>\n",
              "      <th>Occupation</th>\n",
              "      <th>Relationship</th>\n",
              "      <th>Race</th>\n",
              "      <th>Sex</th>\n",
              "      <th>Capital-gain</th>\n",
              "      <th>Capital-loss</th>\n",
              "      <th>Hours-per-week</th>\n",
              "      <th>Native-country</th>\n",
              "      <th>Y</th>\n",
              "    </tr>\n",
              "  </thead>\n",
              "  <tbody>\n",
              "    <tr>\n",
              "      <th>0</th>\n",
              "      <td>39</td>\n",
              "      <td>State-gov</td>\n",
              "      <td>77516</td>\n",
              "      <td>Bachelors</td>\n",
              "      <td>13</td>\n",
              "      <td>Never-married</td>\n",
              "      <td>Adm-clerical</td>\n",
              "      <td>Not-in-family</td>\n",
              "      <td>White</td>\n",
              "      <td>Male</td>\n",
              "      <td>2174</td>\n",
              "      <td>0</td>\n",
              "      <td>40</td>\n",
              "      <td>United-States</td>\n",
              "      <td>&lt;=50K</td>\n",
              "    </tr>\n",
              "    <tr>\n",
              "      <th>1</th>\n",
              "      <td>50</td>\n",
              "      <td>Self-emp-not-inc</td>\n",
              "      <td>83311</td>\n",
              "      <td>Bachelors</td>\n",
              "      <td>13</td>\n",
              "      <td>Married-civ-spouse</td>\n",
              "      <td>Exec-managerial</td>\n",
              "      <td>Husband</td>\n",
              "      <td>White</td>\n",
              "      <td>Male</td>\n",
              "      <td>0</td>\n",
              "      <td>0</td>\n",
              "      <td>13</td>\n",
              "      <td>United-States</td>\n",
              "      <td>&lt;=50K</td>\n",
              "    </tr>\n",
              "    <tr>\n",
              "      <th>2</th>\n",
              "      <td>38</td>\n",
              "      <td>Private</td>\n",
              "      <td>215646</td>\n",
              "      <td>HS-grad</td>\n",
              "      <td>9</td>\n",
              "      <td>Divorced</td>\n",
              "      <td>Handlers-cleaners</td>\n",
              "      <td>Not-in-family</td>\n",
              "      <td>White</td>\n",
              "      <td>Male</td>\n",
              "      <td>0</td>\n",
              "      <td>0</td>\n",
              "      <td>40</td>\n",
              "      <td>United-States</td>\n",
              "      <td>&lt;=50K</td>\n",
              "    </tr>\n",
              "    <tr>\n",
              "      <th>3</th>\n",
              "      <td>53</td>\n",
              "      <td>Private</td>\n",
              "      <td>234721</td>\n",
              "      <td>11th</td>\n",
              "      <td>7</td>\n",
              "      <td>Married-civ-spouse</td>\n",
              "      <td>Handlers-cleaners</td>\n",
              "      <td>Husband</td>\n",
              "      <td>Black</td>\n",
              "      <td>Male</td>\n",
              "      <td>0</td>\n",
              "      <td>0</td>\n",
              "      <td>40</td>\n",
              "      <td>United-States</td>\n",
              "      <td>&lt;=50K</td>\n",
              "    </tr>\n",
              "    <tr>\n",
              "      <th>4</th>\n",
              "      <td>28</td>\n",
              "      <td>Private</td>\n",
              "      <td>338409</td>\n",
              "      <td>Bachelors</td>\n",
              "      <td>13</td>\n",
              "      <td>Married-civ-spouse</td>\n",
              "      <td>Prof-specialty</td>\n",
              "      <td>Wife</td>\n",
              "      <td>Black</td>\n",
              "      <td>Female</td>\n",
              "      <td>0</td>\n",
              "      <td>0</td>\n",
              "      <td>40</td>\n",
              "      <td>Cuba</td>\n",
              "      <td>&lt;=50K</td>\n",
              "    </tr>\n",
              "    <tr>\n",
              "      <th>...</th>\n",
              "      <td>...</td>\n",
              "      <td>...</td>\n",
              "      <td>...</td>\n",
              "      <td>...</td>\n",
              "      <td>...</td>\n",
              "      <td>...</td>\n",
              "      <td>...</td>\n",
              "      <td>...</td>\n",
              "      <td>...</td>\n",
              "      <td>...</td>\n",
              "      <td>...</td>\n",
              "      <td>...</td>\n",
              "      <td>...</td>\n",
              "      <td>...</td>\n",
              "      <td>...</td>\n",
              "    </tr>\n",
              "    <tr>\n",
              "      <th>32556</th>\n",
              "      <td>27</td>\n",
              "      <td>Private</td>\n",
              "      <td>257302</td>\n",
              "      <td>Assoc-acdm</td>\n",
              "      <td>12</td>\n",
              "      <td>Married-civ-spouse</td>\n",
              "      <td>Tech-support</td>\n",
              "      <td>Wife</td>\n",
              "      <td>White</td>\n",
              "      <td>Female</td>\n",
              "      <td>0</td>\n",
              "      <td>0</td>\n",
              "      <td>38</td>\n",
              "      <td>United-States</td>\n",
              "      <td>&lt;=50K</td>\n",
              "    </tr>\n",
              "    <tr>\n",
              "      <th>32557</th>\n",
              "      <td>40</td>\n",
              "      <td>Private</td>\n",
              "      <td>154374</td>\n",
              "      <td>HS-grad</td>\n",
              "      <td>9</td>\n",
              "      <td>Married-civ-spouse</td>\n",
              "      <td>Machine-op-inspct</td>\n",
              "      <td>Husband</td>\n",
              "      <td>White</td>\n",
              "      <td>Male</td>\n",
              "      <td>0</td>\n",
              "      <td>0</td>\n",
              "      <td>40</td>\n",
              "      <td>United-States</td>\n",
              "      <td>&gt;50K</td>\n",
              "    </tr>\n",
              "    <tr>\n",
              "      <th>32558</th>\n",
              "      <td>58</td>\n",
              "      <td>Private</td>\n",
              "      <td>151910</td>\n",
              "      <td>HS-grad</td>\n",
              "      <td>9</td>\n",
              "      <td>Widowed</td>\n",
              "      <td>Adm-clerical</td>\n",
              "      <td>Unmarried</td>\n",
              "      <td>White</td>\n",
              "      <td>Female</td>\n",
              "      <td>0</td>\n",
              "      <td>0</td>\n",
              "      <td>40</td>\n",
              "      <td>United-States</td>\n",
              "      <td>&lt;=50K</td>\n",
              "    </tr>\n",
              "    <tr>\n",
              "      <th>32559</th>\n",
              "      <td>22</td>\n",
              "      <td>Private</td>\n",
              "      <td>201490</td>\n",
              "      <td>HS-grad</td>\n",
              "      <td>9</td>\n",
              "      <td>Never-married</td>\n",
              "      <td>Adm-clerical</td>\n",
              "      <td>Own-child</td>\n",
              "      <td>White</td>\n",
              "      <td>Male</td>\n",
              "      <td>0</td>\n",
              "      <td>0</td>\n",
              "      <td>20</td>\n",
              "      <td>United-States</td>\n",
              "      <td>&lt;=50K</td>\n",
              "    </tr>\n",
              "    <tr>\n",
              "      <th>32560</th>\n",
              "      <td>52</td>\n",
              "      <td>Self-emp-inc</td>\n",
              "      <td>287927</td>\n",
              "      <td>HS-grad</td>\n",
              "      <td>9</td>\n",
              "      <td>Married-civ-spouse</td>\n",
              "      <td>Exec-managerial</td>\n",
              "      <td>Wife</td>\n",
              "      <td>White</td>\n",
              "      <td>Female</td>\n",
              "      <td>15024</td>\n",
              "      <td>0</td>\n",
              "      <td>40</td>\n",
              "      <td>United-States</td>\n",
              "      <td>&gt;50K</td>\n",
              "    </tr>\n",
              "  </tbody>\n",
              "</table>\n",
              "<p>32561 rows × 15 columns</p>\n",
              "</div>\n",
              "    <div class=\"colab-df-buttons\">\n",
              "\n",
              "  <div class=\"colab-df-container\">\n",
              "    <button class=\"colab-df-convert\" onclick=\"convertToInteractive('df-3790657d-071b-4478-a07b-a4d973d96ca7')\"\n",
              "            title=\"Convert this dataframe to an interactive table.\"\n",
              "            style=\"display:none;\">\n",
              "\n",
              "  <svg xmlns=\"http://www.w3.org/2000/svg\" height=\"24px\" viewBox=\"0 -960 960 960\">\n",
              "    <path d=\"M120-120v-720h720v720H120Zm60-500h600v-160H180v160Zm220 220h160v-160H400v160Zm0 220h160v-160H400v160ZM180-400h160v-160H180v160Zm440 0h160v-160H620v160ZM180-180h160v-160H180v160Zm440 0h160v-160H620v160Z\"/>\n",
              "  </svg>\n",
              "    </button>\n",
              "\n",
              "  <style>\n",
              "    .colab-df-container {\n",
              "      display:flex;\n",
              "      gap: 12px;\n",
              "    }\n",
              "\n",
              "    .colab-df-convert {\n",
              "      background-color: #E8F0FE;\n",
              "      border: none;\n",
              "      border-radius: 50%;\n",
              "      cursor: pointer;\n",
              "      display: none;\n",
              "      fill: #1967D2;\n",
              "      height: 32px;\n",
              "      padding: 0 0 0 0;\n",
              "      width: 32px;\n",
              "    }\n",
              "\n",
              "    .colab-df-convert:hover {\n",
              "      background-color: #E2EBFA;\n",
              "      box-shadow: 0px 1px 2px rgba(60, 64, 67, 0.3), 0px 1px 3px 1px rgba(60, 64, 67, 0.15);\n",
              "      fill: #174EA6;\n",
              "    }\n",
              "\n",
              "    .colab-df-buttons div {\n",
              "      margin-bottom: 4px;\n",
              "    }\n",
              "\n",
              "    [theme=dark] .colab-df-convert {\n",
              "      background-color: #3B4455;\n",
              "      fill: #D2E3FC;\n",
              "    }\n",
              "\n",
              "    [theme=dark] .colab-df-convert:hover {\n",
              "      background-color: #434B5C;\n",
              "      box-shadow: 0px 1px 3px 1px rgba(0, 0, 0, 0.15);\n",
              "      filter: drop-shadow(0px 1px 2px rgba(0, 0, 0, 0.3));\n",
              "      fill: #FFFFFF;\n",
              "    }\n",
              "  </style>\n",
              "\n",
              "    <script>\n",
              "      const buttonEl =\n",
              "        document.querySelector('#df-3790657d-071b-4478-a07b-a4d973d96ca7 button.colab-df-convert');\n",
              "      buttonEl.style.display =\n",
              "        google.colab.kernel.accessAllowed ? 'block' : 'none';\n",
              "\n",
              "      async function convertToInteractive(key) {\n",
              "        const element = document.querySelector('#df-3790657d-071b-4478-a07b-a4d973d96ca7');\n",
              "        const dataTable =\n",
              "          await google.colab.kernel.invokeFunction('convertToInteractive',\n",
              "                                                    [key], {});\n",
              "        if (!dataTable) return;\n",
              "\n",
              "        const docLinkHtml = 'Like what you see? Visit the ' +\n",
              "          '<a target=\"_blank\" href=https://colab.research.google.com/notebooks/data_table.ipynb>data table notebook</a>'\n",
              "          + ' to learn more about interactive tables.';\n",
              "        element.innerHTML = '';\n",
              "        dataTable['output_type'] = 'display_data';\n",
              "        await google.colab.output.renderOutput(dataTable, element);\n",
              "        const docLink = document.createElement('div');\n",
              "        docLink.innerHTML = docLinkHtml;\n",
              "        element.appendChild(docLink);\n",
              "      }\n",
              "    </script>\n",
              "  </div>\n",
              "\n",
              "\n",
              "<div id=\"df-812af526-d970-4632-a08f-c3737dc7b733\">\n",
              "  <button class=\"colab-df-quickchart\" onclick=\"quickchart('df-812af526-d970-4632-a08f-c3737dc7b733')\"\n",
              "            title=\"Suggest charts\"\n",
              "            style=\"display:none;\">\n",
              "\n",
              "<svg xmlns=\"http://www.w3.org/2000/svg\" height=\"24px\"viewBox=\"0 0 24 24\"\n",
              "     width=\"24px\">\n",
              "    <g>\n",
              "        <path d=\"M19 3H5c-1.1 0-2 .9-2 2v14c0 1.1.9 2 2 2h14c1.1 0 2-.9 2-2V5c0-1.1-.9-2-2-2zM9 17H7v-7h2v7zm4 0h-2V7h2v10zm4 0h-2v-4h2v4z\"/>\n",
              "    </g>\n",
              "</svg>\n",
              "  </button>\n",
              "\n",
              "<style>\n",
              "  .colab-df-quickchart {\n",
              "      --bg-color: #E8F0FE;\n",
              "      --fill-color: #1967D2;\n",
              "      --hover-bg-color: #E2EBFA;\n",
              "      --hover-fill-color: #174EA6;\n",
              "      --disabled-fill-color: #AAA;\n",
              "      --disabled-bg-color: #DDD;\n",
              "  }\n",
              "\n",
              "  [theme=dark] .colab-df-quickchart {\n",
              "      --bg-color: #3B4455;\n",
              "      --fill-color: #D2E3FC;\n",
              "      --hover-bg-color: #434B5C;\n",
              "      --hover-fill-color: #FFFFFF;\n",
              "      --disabled-bg-color: #3B4455;\n",
              "      --disabled-fill-color: #666;\n",
              "  }\n",
              "\n",
              "  .colab-df-quickchart {\n",
              "    background-color: var(--bg-color);\n",
              "    border: none;\n",
              "    border-radius: 50%;\n",
              "    cursor: pointer;\n",
              "    display: none;\n",
              "    fill: var(--fill-color);\n",
              "    height: 32px;\n",
              "    padding: 0;\n",
              "    width: 32px;\n",
              "  }\n",
              "\n",
              "  .colab-df-quickchart:hover {\n",
              "    background-color: var(--hover-bg-color);\n",
              "    box-shadow: 0 1px 2px rgba(60, 64, 67, 0.3), 0 1px 3px 1px rgba(60, 64, 67, 0.15);\n",
              "    fill: var(--button-hover-fill-color);\n",
              "  }\n",
              "\n",
              "  .colab-df-quickchart-complete:disabled,\n",
              "  .colab-df-quickchart-complete:disabled:hover {\n",
              "    background-color: var(--disabled-bg-color);\n",
              "    fill: var(--disabled-fill-color);\n",
              "    box-shadow: none;\n",
              "  }\n",
              "\n",
              "  .colab-df-spinner {\n",
              "    border: 2px solid var(--fill-color);\n",
              "    border-color: transparent;\n",
              "    border-bottom-color: var(--fill-color);\n",
              "    animation:\n",
              "      spin 1s steps(1) infinite;\n",
              "  }\n",
              "\n",
              "  @keyframes spin {\n",
              "    0% {\n",
              "      border-color: transparent;\n",
              "      border-bottom-color: var(--fill-color);\n",
              "      border-left-color: var(--fill-color);\n",
              "    }\n",
              "    20% {\n",
              "      border-color: transparent;\n",
              "      border-left-color: var(--fill-color);\n",
              "      border-top-color: var(--fill-color);\n",
              "    }\n",
              "    30% {\n",
              "      border-color: transparent;\n",
              "      border-left-color: var(--fill-color);\n",
              "      border-top-color: var(--fill-color);\n",
              "      border-right-color: var(--fill-color);\n",
              "    }\n",
              "    40% {\n",
              "      border-color: transparent;\n",
              "      border-right-color: var(--fill-color);\n",
              "      border-top-color: var(--fill-color);\n",
              "    }\n",
              "    60% {\n",
              "      border-color: transparent;\n",
              "      border-right-color: var(--fill-color);\n",
              "    }\n",
              "    80% {\n",
              "      border-color: transparent;\n",
              "      border-right-color: var(--fill-color);\n",
              "      border-bottom-color: var(--fill-color);\n",
              "    }\n",
              "    90% {\n",
              "      border-color: transparent;\n",
              "      border-bottom-color: var(--fill-color);\n",
              "    }\n",
              "  }\n",
              "</style>\n",
              "\n",
              "  <script>\n",
              "    async function quickchart(key) {\n",
              "      const quickchartButtonEl =\n",
              "        document.querySelector('#' + key + ' button');\n",
              "      quickchartButtonEl.disabled = true;  // To prevent multiple clicks.\n",
              "      quickchartButtonEl.classList.add('colab-df-spinner');\n",
              "      try {\n",
              "        const charts = await google.colab.kernel.invokeFunction(\n",
              "            'suggestCharts', [key], {});\n",
              "      } catch (error) {\n",
              "        console.error('Error during call to suggestCharts:', error);\n",
              "      }\n",
              "      quickchartButtonEl.classList.remove('colab-df-spinner');\n",
              "      quickchartButtonEl.classList.add('colab-df-quickchart-complete');\n",
              "    }\n",
              "    (() => {\n",
              "      let quickchartButtonEl =\n",
              "        document.querySelector('#df-812af526-d970-4632-a08f-c3737dc7b733 button');\n",
              "      quickchartButtonEl.style.display =\n",
              "        google.colab.kernel.accessAllowed ? 'block' : 'none';\n",
              "    })();\n",
              "  </script>\n",
              "</div>\n",
              "    </div>\n",
              "  </div>\n"
            ]
          },
          "metadata": {},
          "execution_count": 2
        }
      ],
      "source": [
        "# TASK 1: Load Dataset\n",
        "# We are going to use the same adult dataset as previous week.\n",
        "# We have cleaned the dataset, but did not touch the missing values.\n",
        "from sklearn.model_selection import train_test_split\n",
        "df = pd.read_csv(\"clean_adult.csv\")\n",
        "df"
      ]
    },
    {
      "cell_type": "markdown",
      "metadata": {
        "id": "JsLy5kau3T1U"
      },
      "source": [
        "### Task 2: Encode categorical variables (label/ordinal encoding & one-hot encoding)"
      ]
    },
    {
      "cell_type": "markdown",
      "metadata": {
        "id": "bwd_77To3T1U"
      },
      "source": [
        "### Important: We need special care when we are encoding categorical variables\n",
        "\n",
        "**1. Take care of the missing values**\n",
        "- Beware not to encode missing values unless you are intending to do so.\n",
        "- Sometimes you want to encode missing values to a separate cateogory. For example, when you want to predict if passengers of titanic had survived or not, missing data of certain features can actually have meaning, i.e., Cabin information can be missing because the body was not found.\n",
        "\n",
        "**2. Know which encoding and scaling method you should select**\n",
        "- If your categories are ordinal, then it makes sense to use a LabelEncoder with a MinMaxScaler. For example, you can encode [low, medium, high], as [1,2,3], i.e., distance between low to high is larger than that of medium and high.\n",
        "\n",
        "- However, if you have non-ordinal categorical values, like [White, Hispanic, Black, Asian], then it would be better to use a OneHotEncoder instead of forcing ordinality with a LabelEncoder. Otherwise the algorithms you use (especially distance based algorithms like KNN) will make the assumption that the distance between White and Asian is larger than White and Hispanic, which is nonsensical.\n",
        "\n",
        "**3. Split before you encode to avoid data leakage**\n",
        "- Split the dataset before you encode your data. It is natural for algorithms to see unknown values in the validation/test set that was not appearing in the train set. `sklearn.preprocessing.OneHotEncoder` is good at handling these unknown categories (`handle_unknown` parameter).\n",
        "\n",
        "- Discussion: What if you are certain about all the possible categories that can appear for each feature? Can you encode all the values before splitting the dataset into train and test set?\n",
        "\n",
        "\n",
        "This notebook shows the three points in the following sections with examples."
      ]
    },
    {
      "cell_type": "markdown",
      "metadata": {
        "id": "HJ55CYB03T1U"
      },
      "source": [
        "### Task 2-1: Label Encoding (with missing values)"
      ]
    },
    {
      "cell_type": "code",
      "execution_count": 3,
      "metadata": {
        "id": "ldCwrFlm3T1V"
      },
      "outputs": [],
      "source": [
        "from sklearn.preprocessing import LabelEncoder, OrdinalEncoder, OneHotEncoder\n",
        "\n",
        "label_encoder = LabelEncoder()"
      ]
    },
    {
      "cell_type": "markdown",
      "metadata": {
        "id": "h3m1FGN33T1V"
      },
      "source": [
        "### Task 2-2: One Hot Encoding (with missing values imputation)\n",
        "\n",
        "Tip 1: Impute the missing values (choose the right strategy) before doing OHE  \n",
        "Tip 2: Try creating a separate dataframe with one-hot encoded columns and combine the dataframe with the original dataframe for the final one."
      ]
    },
    {
      "cell_type": "code",
      "execution_count": 4,
      "metadata": {
        "id": "lo19duKZ3T1V"
      },
      "outputs": [],
      "source": [
        "# Let's first impute the missing values.\n",
        "# Since it's a categorical value, we don't use KNN or mean imputation.\n",
        "# We will replace with the most frequent value.\n",
        "from sklearn.impute import SimpleImputer\n",
        "\n"
      ]
    },
    {
      "cell_type": "markdown",
      "metadata": {
        "id": "Jq9UcXG_3T1V"
      },
      "source": [
        "### Side Note: Data Imputation with KNN\n",
        "For the adult dataset, missing data present only in categorical values, so imputing strategy that makes floating point may not make sense.\n",
        "However, for continuous values, you can use various imputation strategies, such as taking simple mean or mean value from K nearest neighbors (KNN).\n",
        "If you use `sklearn.imput.KNNImputer`, each sample’s missing values are imputed using the `mean` value from `n_neighbors` nearest neighbors found in the training set.\n",
        "If you want to use `mode` value from neighbors (for categorical data imputation) you need to implement the imputer by yourself.\n",
        "\n",
        "- `sklearn-pandas` package (https://pypi.org/project/sklearn-pandas/1.5.0/) provides `CategoricalImputer` class, which is suitable for such processing\n",
        "\n",
        "Here, we use iris dataset to show how to use KNNImputer for continuous values"
      ]
    },
    {
      "cell_type": "code",
      "execution_count": 5,
      "metadata": {
        "id": "r1HdQol83T1V"
      },
      "outputs": [],
      "source": [
        "from sklearn.datasets import load_iris\n",
        "from sklearn.impute import KNNImputer"
      ]
    },
    {
      "cell_type": "code",
      "execution_count": 6,
      "metadata": {
        "id": "EHuO1A9V3T1V"
      },
      "outputs": [],
      "source": [
        "iris = load_iris()\n",
        "iris_df = pd.DataFrame(iris.data, columns=iris.feature_names)"
      ]
    },
    {
      "cell_type": "code",
      "execution_count": 7,
      "metadata": {
        "colab": {
          "base_uri": "https://localhost:8080/"
        },
        "id": "RjO8yQ073T1W",
        "outputId": "2d45a403-06fa-4249-ab40-9c53180dfa31"
      },
      "outputs": [
        {
          "output_type": "execute_result",
          "data": {
            "text/plain": [
              "sepal length (cm)    13\n",
              "sepal width (cm)     17\n",
              "petal length (cm)    13\n",
              "petal width (cm)     12\n",
              "dtype: int64"
            ]
          },
          "metadata": {},
          "execution_count": 7
        }
      ],
      "source": [
        "# Applying a random mask to make missing data\n",
        "mask = np.random.choice([True, False], size=iris_df.shape[0] * iris_df.shape[1])\n",
        "mask[:500] = True\n",
        "np.random.shuffle(mask)\n",
        "mask = np.reshape(mask, iris_df.shape)\n",
        "iris_df = iris_df.mask(~mask)\n",
        "\n",
        "iris_df.isnull().sum()"
      ]
    },
    {
      "cell_type": "code",
      "execution_count": 8,
      "metadata": {
        "id": "MorQQd4V3T1W"
      },
      "outputs": [],
      "source": [
        "train_X, test_X = iris_df[:100], iris_df[100:]"
      ]
    },
    {
      "cell_type": "code",
      "execution_count": 9,
      "metadata": {
        "id": "zkh5aI_J3T1W"
      },
      "outputs": [],
      "source": [
        "# It is important to impute the train and test set separately (not fitting KNN to test set) to avoid data leak.\n",
        "imputer = KNNImputer(n_neighbors=5)\n",
        "imputed_train_X = imputer.fit_transform(train_X)\n",
        "imputed_test_X = imputer.transform(test_X)"
      ]
    },
    {
      "cell_type": "code",
      "execution_count": 10,
      "metadata": {
        "id": "YgJNUSFP3T1W"
      },
      "outputs": [],
      "source": [
        "del iris, iris_df, mask, train_X, test_X, imputer, imputed_train_X, imputed_test_X"
      ]
    },
    {
      "cell_type": "code",
      "execution_count": 10,
      "metadata": {
        "id": "JjqvhZ0j3T1W"
      },
      "outputs": [],
      "source": []
    },
    {
      "cell_type": "markdown",
      "metadata": {
        "id": "6xa4zDSc3T1W"
      },
      "source": [
        "### Task 3: Create different preprocessing strategies of your own\n",
        "Create different versions of X (X1 and X2) by dropping missing values (X1) or using strategies for data imputation (X2). Define different preprocessing strategies using the `Pipeline` and `ColmnTransformer` class\n"
      ]
    },
    {
      "cell_type": "markdown",
      "metadata": {
        "id": "1-fmKg3FnoNL"
      },
      "source": [
        "### Task 3-1: Dropping missing values (X1)"
      ]
    },
    {
      "cell_type": "code",
      "execution_count": 11,
      "metadata": {
        "id": "OwD6VO-S3T1W"
      },
      "outputs": [],
      "source": [
        "from sklearn.pipeline import Pipeline\n",
        "from sklearn.compose import ColumnTransformer\n",
        "from sklearn.impute import SimpleImputer, KNNImputer\n",
        "from sklearn.preprocessing import StandardScaler\n",
        "non_categorical_features = [\n",
        "    \"Age\",\n",
        "    \"Fnlwgt\",\n",
        "    \"Capital-gain\",\n",
        "    \"Capital-loss\",\n",
        "    \"Hours-per-week\",\n",
        "]\n",
        "categorical_ohe_features = [\n",
        "    \"Workclass\",\n",
        "    \"Education-num\",\n",
        "    \"Marital-status\",\n",
        "    \"Occupation\",\n",
        "    \"Relationship\",\n",
        "    \"Race\",\n",
        "    \"Native-country\",\n",
        "]\n",
        "categorical_le_features = [\"Sex\"]"
      ]
    },
    {
      "cell_type": "code",
      "execution_count": 12,
      "metadata": {
        "id": "vevvJZk73T1W"
      },
      "outputs": [],
      "source": [
        "# Your explorations here"
      ]
    },
    {
      "cell_type": "code",
      "execution_count": 12,
      "metadata": {
        "id": "ztpBflEbpAkh"
      },
      "outputs": [],
      "source": []
    },
    {
      "cell_type": "markdown",
      "metadata": {
        "id": "tkS0IA9YeZfe"
      },
      "source": [
        "#### Task 3-1: Using strategies for data imputation (X2)"
      ]
    },
    {
      "cell_type": "code",
      "source": [],
      "metadata": {
        "id": "uYXv6crkhjU6"
      },
      "execution_count": 12,
      "outputs": []
    },
    {
      "cell_type": "markdown",
      "metadata": {
        "id": "kyaIeYem3T1W"
      },
      "source": [
        "### Task 4:\n",
        "Train different models (KNN, SVM) to predict the y from the two versions of X (X1 and X2) with a fixed value of the regularization parameter.\n",
        "Centre and scale the data before training the models. Create tables or plots to show how accuracy varies for different imputation strategies or different models."
      ]
    },
    {
      "cell_type": "markdown",
      "metadata": {
        "id": "x9KJk1D13T1W"
      },
      "source": [
        "### Task 4-1: Training KNN and SVM Models with X1\n",
        "\n"
      ]
    },
    {
      "cell_type": "code",
      "execution_count": 13,
      "metadata": {
        "id": "92fkl3413T1W"
      },
      "outputs": [],
      "source": [
        "from sklearn.neighbors import KNeighborsClassifier\n",
        "from sklearn import svm\n",
        "\n",
        "from sklearn.metrics import accuracy_score, confusion_matrix\n",
        "from sklearn.metrics import classification_report\n",
        "from sklearn.feature_selection import mutual_info_classif"
      ]
    },
    {
      "cell_type": "code",
      "source": [],
      "metadata": {
        "id": "gGyQeojihmOg"
      },
      "execution_count": 13,
      "outputs": []
    },
    {
      "cell_type": "markdown",
      "metadata": {
        "id": "uSX8D0on3T1W"
      },
      "source": [
        "### Task 4-2: Training KNN and SVM Models with X2"
      ]
    },
    {
      "cell_type": "code",
      "source": [],
      "metadata": {
        "id": "Dt31bb7Zhna7"
      },
      "execution_count": 13,
      "outputs": []
    },
    {
      "cell_type": "markdown",
      "metadata": {
        "id": "TIIBj47c3T1W"
      },
      "source": [
        "## Part 2: Cross Validation (CV)"
      ]
    },
    {
      "cell_type": "markdown",
      "metadata": {
        "id": "NjuVQrMm3T1W"
      },
      "source": [
        "scikit-learn provides a nice visualisation of various cross validation methods.\n",
        "This notebook focuses on different cross validation strategies and how to account for data structure during cross-validation.\n",
        "\n",
        "\n",
        "Visit: https://scikit-learn.org/stable/auto_examples/model_selection/plot_cv_indices.html#visualizing-cross-validation-behavior-in-scikit-learn\n",
        "\n",
        "![kfold](https://scikit-learn.org/stable/_images/sphx_glr_plot_cv_indices_006.png)\n",
        "![stra-kfold](https://scikit-learn.org/stable/_images/sphx_glr_plot_cv_indices_003.png)\n",
        "![group-kfold](https://scikit-learn.org/stable/_images/sphx_glr_plot_cv_indices_004.png)\n",
        "![stra-group-kfold](https://scikit-learn.org/stable/_images/sphx_glr_plot_cv_indices_010.png)"
      ]
    },
    {
      "cell_type": "code",
      "execution_count": 14,
      "metadata": {
        "id": "GJyx1eZO3T1X"
      },
      "outputs": [],
      "source": [
        "from sklearn.model_selection import (\n",
        "    KFold,\n",
        "    StratifiedKFold,\n",
        "    GroupKFold,\n",
        "    StratifiedGroupKFold,\n",
        "    GridSearchCV,\n",
        ")"
      ]
    },
    {
      "cell_type": "markdown",
      "metadata": {
        "id": "6yVJbC2E3T1X"
      },
      "source": [
        "### Task 5\n",
        "Now apply cross-validation to the train set (k=5) for optimizing the models hyperparameters. After identifying the best hyperparameter, measure the performance on the test data by training the models on the training data using the optimal hyperparameter. Note: remember that the pre-processing steps, including data centering and scaling should be embedded in the CV.\n"
      ]
    },
    {
      "cell_type": "code",
      "source": [],
      "metadata": {
        "id": "Hsu9I18zhrJE"
      },
      "execution_count": 14,
      "outputs": []
    },
    {
      "cell_type": "markdown",
      "metadata": {
        "id": "IJ7bezApwBd1"
      },
      "source": [
        "#### Task 5-1\n",
        "Plot the model performance (mean accuracy and SD) for different hyper-parameter values.\n",
        "- How does the accuracy vary as function of the hyperparameter?\n"
      ]
    },
    {
      "cell_type": "code",
      "source": [],
      "metadata": {
        "id": "XEHCwdvlhsU9"
      },
      "execution_count": 14,
      "outputs": []
    },
    {
      "cell_type": "markdown",
      "source": [
        "#### Task 5-2\n",
        "Print the average cross-validation score, the best cross-validation score, the best hyperparameter and the test-score.\n",
        " - Is there a difference between the average cross-validation score, the best cross-validation score and the test-score?\n",
        "\n"
      ],
      "metadata": {
        "id": "FgOmKtvefdbb"
      }
    },
    {
      "cell_type": "code",
      "source": [],
      "metadata": {
        "id": "KoRgQ5KXhtHO"
      },
      "execution_count": 14,
      "outputs": []
    },
    {
      "cell_type": "markdown",
      "metadata": {
        "id": "kJXSdDRS3T1X"
      },
      "source": [
        "### Task 6\n",
        "Repeat task 5 using stratified CV with k=5. Centre and scale the data before training the models. Print the average cross-validation score, the best cross-validation score, the best hyperparameter and the test-score.\n",
        "\n",
        "- Did the performances changes with the stratified CV?\n"
      ]
    },
    {
      "cell_type": "code",
      "source": [],
      "metadata": {
        "id": "QUV9IHw9huJv"
      },
      "execution_count": 14,
      "outputs": []
    },
    {
      "cell_type": "markdown",
      "metadata": {
        "id": "xacpzqp5xdSO"
      },
      "source": [
        "### Task 7\n",
        "Repeat task 5 using stratified group CV considering 'Race' as a group with k=5. Centre and scale the data before training the models. Print the average cross-validation score, the best cross-validation score, the best hyperparameter and the test-score.\n",
        " - Did the performances changes with the stratified group CV?"
      ]
    },
    {
      "cell_type": "code",
      "source": [],
      "metadata": {
        "id": "7zmSsPSchvaa"
      },
      "execution_count": 14,
      "outputs": []
    },
    {
      "cell_type": "markdown",
      "metadata": {
        "id": "s7omJ16T3T1X"
      },
      "source": [
        "### Task 8\n",
        "Now implement a nested CV for optimize the models’ hyper-parameters and assessing the models’ performance (with k=5 for the inner and outer loop). The inner loop should optimize the models’ hyper-parameters and the outer loop should assess the models’ performance."
      ]
    },
    {
      "cell_type": "code",
      "execution_count": 14,
      "metadata": {
        "id": "B3Y4CJsPma8e"
      },
      "outputs": [],
      "source": []
    }
  ],
  "metadata": {
    "colab": {
      "provenance": [],
      "collapsed_sections": [
        "Jq9UcXG_3T1V"
      ]
    },
    "kernelspec": {
      "display_name": "Python 3 (ipykernel)",
      "language": "python",
      "name": "python3"
    },
    "language_info": {
      "codemirror_mode": {
        "name": "ipython",
        "version": 3
      },
      "file_extension": ".py",
      "mimetype": "text/x-python",
      "name": "python",
      "nbconvert_exporter": "python",
      "pygments_lexer": "ipython3",
      "version": "3.8.13"
    },
    "vscode": {
      "interpreter": {
        "hash": "c975486aa82b32d30c2438da9d14334177c2b4d93822b75ed42b1917e361f4e6"
      }
    }
  },
  "nbformat": 4,
  "nbformat_minor": 0
}