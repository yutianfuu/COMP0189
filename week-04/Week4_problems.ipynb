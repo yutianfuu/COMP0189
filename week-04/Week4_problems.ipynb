{
  "cells": [
    {
      "cell_type": "markdown",
      "metadata": {
        "id": "Uyu0ma5quxjS"
      },
      "source": [
        "# COMP0189: Applied Artificial Intelligence\n",
        "\n",
        "## Week 4 (Linear models, Trees and Ensemble Models )\n",
        "\n",
        "### After this week you will be able to ...    \n",
        "    - run various regularized linear models and optimize their regularization parameter in a proper way\n",
        "    - visualize coefficient of linear models\n",
        "    - run tree based and emsemble models\n",
        "    - visualize feature importane for tree based models\n",
        "\n",
        "\n",
        "   \n",
        "\n",
        "\n",
        "\n",
        "We will use the Housing dataset for predicting house prices. It includes a variety of features that are commonly believed to influence the price of a house. These features include aspects like the size of the house, the number of bedrooms and bathrooms, location, and other relevant attributes.\n",
        "\n",
        "\n",
        "\n",
        "### Acknowledgements\n",
        "- https://scikit-learn.org/stable/\n",
        "- Harrison, D. and Rubinfeld, D.L. (1978) Hedonic prices and the demand for clean air. J. Environ. Economics and Management 5, 81–102.\n",
        "Belsley D.A., Kuh, E. and Welsch, R.E. (1980) Regression Diagnostics. Identifying Influential Data and Sources of Collinearity. New York: Wiley.\n",
        "\n",
        "- https://www.kaggle.com/datasets/yasserh/housing-prices-dataset"
      ]
    },
    {
      "cell_type": "code",
      "execution_count": null,
      "metadata": {
        "id": "TV4ns6TEuxjX"
      },
      "outputs": [],
      "source": [
        "import numpy as np\n",
        "import pandas as pd\n",
        "import matplotlib.pyplot as plt"
      ]
    },
    {
      "cell_type": "code",
      "execution_count": null,
      "metadata": {
        "id": "VY7dMdDvuxjY",
        "scrolled": false
      },
      "outputs": [],
      "source": [
        "df = pd.read_csv(\"Housing.csv\")\n",
        "df.head()"
      ]
    },
    {
      "cell_type": "markdown",
      "metadata": {
        "id": "6XnBhXmluxjZ"
      },
      "source": [
        "## Task 1: Create a pipeline for hyper-parameter tuning and model comparison"
      ]
    },
    {
      "cell_type": "markdown",
      "metadata": {
        "id": "gK9iHoktuxja"
      },
      "source": [
        "1.1 Create a pipeline to optize the regularization hyper-paramaters of different linear models (Ridge regression, LASSO and elastic-net) and chose the best model for predicting house prices based on the features provided. Print the average cross-validation performance (with the standard deviation) as well as the test performance.\n",
        "\n",
        "Linear models: https://scikit-learn.org/stable/modules/linear_model.html#"
      ]
    },
    {
      "cell_type": "code",
      "execution_count": null,
      "metadata": {
        "id": "LI6ym6BFuxja"
      },
      "outputs": [],
      "source": [
        "from sklearn.model_selection import GridSearchCV\n",
        "from sklearn.linear_model import Ridge, Lasso, ElasticNet\n",
        "from sklearn.metrics import mean_squared_error, r2_score\n",
        "import math\n",
        "from sklearn.model_selection import train_test_split, GridSearchCV\n",
        "from sklearn.pipeline import Pipeline\n",
        "from sklearn.preprocessing import StandardScaler, OneHotEncoder\n",
        "from sklearn.compose import ColumnTransformer\n",
        "from sklearn.linear_model import Ridge, Lasso, ElasticNet\n",
        "from sklearn.metrics import mean_squared_error, r2_score\n",
        "import math\n",
        "import pandas as pd\n",
        "from scipy.stats import loguniform\n",
        "import numpy as np\n",
        "import random\n",
        "\n",
        "random.seed(0)\n",
        "\n",
        "# Preprocess the data: Encoding categorical variables\n",
        "categorical_features = ['mainroad', 'guestroom', 'basement', 'hotwaterheating', 'airconditioning', 'prefarea', 'furnishingstatus']\n",
        "numerical_features = df.drop(columns=['price'] + categorical_features).columns.tolist()\n",
        "\n",
        "\n",
        "\n",
        "\n",
        "\n",
        "# Define the parameter grids for each model\n",
        "ridge_params = {'regressor__alpha': np.logspace(-2, 10, 100)}\n",
        "lasso_params = {'regressor__alpha': np.logspace(-2, 10, 100)}\n",
        "elastic_params = {'regressor__alpha': np.logspace(-2, 10, 100), 'regressor__l1_ratio': [0.01, 0.2, 0.5, 0.8]}\n",
        "\n",
        "\n",
        "\n",
        "\n",
        "\n"
      ]
    },
    {
      "cell_type": "markdown",
      "metadata": {
        "id": "T_FLSx8Nuxjb"
      },
      "source": [
        "1.2 Create a plot to show the performance of the different models during hyper-parameter optimization (i.e. the figure should show for each model how the performance varies for the different hyper-parameter value)"
      ]
    },
    {
      "cell_type": "code",
      "execution_count": null,
      "metadata": {
        "id": "c1IHtU9buxjc"
      },
      "outputs": [],
      "source": [
        "import matplotlib.pyplot as plt\n",
        "import pandas as pd\n",
        "\n",
        "import numpy as np\n",
        "\n",
        "def plot_model_performance(grid_search, model_name, ax):\n",
        "    results = pd.DataFrame(grid_search.cv_results_)\n",
        "    if model_name != 'ElasticNet':\n",
        "        # For Ridge and Lasso\n",
        "        alphas = results['param_regressor__alpha']\n",
        "        scores = -results['mean_test_score']  # Negate to get MSE\n",
        "        ax.semilogx(alphas, scores, label=model_name, linestyle='-')\n",
        "\n",
        "    else:\n",
        "        # For ElasticNet, need to handle combinations of alpha and l1_ratio\n",
        "        alphas = results['param_regressor__alpha']\n",
        "        l1_ratios = results['param_regressor__l1_ratio']\n",
        "        scores = -results['mean_test_score']  # Negate to get MSE\n",
        "\n",
        "        # Unique l1_ratios for plotting\n",
        "        unique_l1_ratios = np.unique(l1_ratios)\n",
        "        for l1_ratio in unique_l1_ratios:\n",
        "            # Filter scores for each l1_ratio\n",
        "            indices = l1_ratios == l1_ratio\n",
        "            ax.semilogx(alphas[indices], scores[indices], label=f'ElasticNet l1_ratio={l1_ratio}', linestyle='-')\n",
        "\n",
        "# Create a single figure and axis\n",
        "fig, ax = plt.subplots(figsize=(10, 6))\n",
        "\n",
        "# Plot the performance of each model on the same axis\n",
        "#plot_model_performance(grid_search_ridge, 'Ridge', ax)\n",
        "#plot_model_performance(grid_search_lasso, 'Lasso', ax)\n",
        "#plot_model_performance(grid_search_elastic, 'ElasticNet', ax)\n",
        "\n",
        "# Set labels, title, legend, and grid for the plot\n",
        "#ax.set_xlabel('Alpha')\n",
        "#ax.set_ylabel('Mean Test Score (Lower is better)')\n",
        "#ax.set_title('Model Performance Across Hyperparameters')\n",
        "#ax.legend()\n",
        "#ax.grid(True)\n",
        "\n",
        "# Show the plot\n",
        "plt.show()\n",
        "\n",
        "\n"
      ]
    },
    {
      "cell_type": "markdown",
      "metadata": {
        "id": "blbL9yRSuxjc"
      },
      "source": [
        "1.3 Create figures to show the models coefficients for model interpretation (i.e. including the feature names)."
      ]
    },
    {
      "cell_type": "code",
      "execution_count": null,
      "metadata": {
        "id": "Z5YaEySjuxj4"
      },
      "outputs": [],
      "source": [
        "import matplotlib.pyplot as plt\n",
        "import numpy as np\n",
        "\n",
        "import matplotlib.pyplot as plt\n",
        "import numpy as np\n",
        "\n",
        "# Function to plot model coefficients\n",
        "def plot_model_coefficients(model, model_name, numerical_features, categorical_features):\n",
        "    # Extract coefficients\n",
        "\n",
        "\n",
        "    # Get feature names from the preprocessor\n",
        "    # For one-hot encoded features, get the feature names from the encoder\n",
        "\n",
        "\n",
        "    # Sort the coefficients and corresponding feature names\n",
        "\n",
        "\n",
        "    # Plot\n",
        "\n",
        "\n",
        "# Extract best models\n",
        "#best_ridge = grid_search_ridge.best_estimator_\n",
        "#best_lasso = grid_search_lasso.best_estimator_\n",
        "#best_elastic = grid_search_elastic.best_estimator_\n",
        "\n",
        "# Assume best_ridge, best_lasso, best_elastic are already defined and are the best estimators from GridSearchCV\n",
        "#plot_model_coefficients(best_ridge, \"Ridge\", numerical_features, categorical_features)\n",
        "#plot_model_coefficients(best_lasso, \"Lasso\", numerical_features, categorical_features)\n",
        "#plot_model_coefficients(best_elastic, \"ElasticNet\", numerical_features, categorical_features)\n",
        "\n",
        "\n",
        "\n",
        "\n"
      ]
    },
    {
      "cell_type": "markdown",
      "metadata": {
        "id": "Rf6E0ZASuxj4"
      },
      "source": [
        "1.4 Create a similarity matrix to show the similarity of the coefficents across the different models"
      ]
    },
    {
      "cell_type": "code",
      "execution_count": null,
      "metadata": {
        "id": "A9gRL6bRuxj5"
      },
      "outputs": [],
      "source": [
        "from sklearn.metrics.pairwise import cosine_similarity\n",
        "import matplotlib.pyplot as plt\n",
        "import seaborn as sns\n",
        "import pandas as pd\n",
        "\n",
        "# Extract coefficients\n",
        "\n",
        "\n",
        "# Form a matrix of coefficients\n",
        "\n",
        "# Calculate similarity matrix\n",
        "\n",
        "# Convert the matrix to a DataFrame for better readability\n",
        "\n",
        "# Plotting the similarity matrix\n",
        "\n",
        "\n"
      ]
    },
    {
      "cell_type": "markdown",
      "metadata": {
        "id": "YNw6xH5juxj6"
      },
      "source": [
        "### Discussion: How does the performance compare across models? Are the coefficients similar across models?"
      ]
    },
    {
      "cell_type": "markdown",
      "metadata": {
        "id": "C9Y0eaxOuxj6"
      },
      "source": [
        "## Task 2: Create an example of wrong pipeline for task 1.1 and the average CV as well as the test performance."
      ]
    },
    {
      "cell_type": "code",
      "execution_count": null,
      "metadata": {
        "id": "x2c8tPgTuxj7"
      },
      "outputs": [],
      "source": []
    },
    {
      "cell_type": "markdown",
      "metadata": {
        "id": "17ssMZLXuxj7"
      },
      "source": [
        "**Discussion**  \n",
        "**Did the model performance changed when using a wrong pipeline?**"
      ]
    },
    {
      "cell_type": "markdown",
      "metadata": {
        "id": "VqxwOPNMuxj8"
      },
      "source": [
        "## Task 3: Tree and ensemble models"
      ]
    },
    {
      "cell_type": "markdown",
      "metadata": {
        "id": "WbECao3Iuxj8"
      },
      "source": [
        "3.1 For the same dataset compare the performance of a decision tree and ensemble methods (bagging, boosting and gradient boosting) on predicting the house prices. Compute the feature importance for the different models. Create a table/plots to show the performance of the different models.\n",
        "\n",
        "Trees: https://scikit-learn.org/stable/modules/classes.html#module-sklearn.tree  \n",
        "Ensembles: https://scikit-learn.org/stable/modules/classes.html#module-sklearn.ensemble"
      ]
    },
    {
      "cell_type": "code",
      "execution_count": null,
      "metadata": {
        "id": "XkFbo8Uquxj9"
      },
      "outputs": [],
      "source": [
        "from sklearn.tree import DecisionTreeRegressor\n",
        "from sklearn.ensemble import RandomForestClassifier\n",
        "from sklearn.ensemble import BaggingRegressor, AdaBoostRegressor, GradientBoostingRegressor\n"
      ]
    },
    {
      "cell_type": "code",
      "execution_count": null,
      "metadata": {
        "colab": {
          "base_uri": "https://localhost:8080/",
          "height": 329
        },
        "id": "ZjW2GANsuxj9",
        "outputId": "c1714867-a8e0-4321-928f-dc1a5f5ef1eb"
      },
      "outputs": [
        {
          "output_type": "stream",
          "name": "stdout",
          "text": [
            "Decision Tree - Test RMSE: 1457825.542, Test R-squared: 0.262\n",
            "Bagging - Test RMSE: 1119007.196, Test R-squared: 0.565\n"
          ]
        },
        {
          "output_type": "stream",
          "name": "stderr",
          "text": [
            "/usr/local/lib/python3.10/dist-packages/sklearn/ensemble/_base.py:166: FutureWarning: `base_estimator` was renamed to `estimator` in version 1.2 and will be removed in 1.4.\n",
            "  warnings.warn(\n",
            "/usr/local/lib/python3.10/dist-packages/sklearn/ensemble/_base.py:166: FutureWarning: `base_estimator` was renamed to `estimator` in version 1.2 and will be removed in 1.4.\n",
            "  warnings.warn(\n"
          ]
        },
        {
          "output_type": "stream",
          "name": "stdout",
          "text": [
            "Boosting - Test RMSE: 1012366.657, Test R-squared: 0.644\n",
            "Gradient Boosting - Test RMSE: 1095379.392, Test R-squared: 0.584\n"
          ]
        },
        {
          "output_type": "execute_result",
          "data": {
            "text/plain": [
              "               Model     Test RMSE   Test R2\n",
              "0      Decision Tree  1.457826e+06  0.262453\n",
              "1            Bagging  1.119007e+06  0.565445\n",
              "2           Boosting  1.012367e+06  0.644324\n",
              "3  Gradient Boosting  1.095379e+06  0.583603"
            ],
            "text/html": [
              "\n",
              "  <div id=\"df-b0747978-b3d1-4201-8da1-18a774cd49b7\" class=\"colab-df-container\">\n",
              "    <div>\n",
              "<style scoped>\n",
              "    .dataframe tbody tr th:only-of-type {\n",
              "        vertical-align: middle;\n",
              "    }\n",
              "\n",
              "    .dataframe tbody tr th {\n",
              "        vertical-align: top;\n",
              "    }\n",
              "\n",
              "    .dataframe thead th {\n",
              "        text-align: right;\n",
              "    }\n",
              "</style>\n",
              "<table border=\"1\" class=\"dataframe\">\n",
              "  <thead>\n",
              "    <tr style=\"text-align: right;\">\n",
              "      <th></th>\n",
              "      <th>Model</th>\n",
              "      <th>Test RMSE</th>\n",
              "      <th>Test R2</th>\n",
              "    </tr>\n",
              "  </thead>\n",
              "  <tbody>\n",
              "    <tr>\n",
              "      <th>0</th>\n",
              "      <td>Decision Tree</td>\n",
              "      <td>1.457826e+06</td>\n",
              "      <td>0.262453</td>\n",
              "    </tr>\n",
              "    <tr>\n",
              "      <th>1</th>\n",
              "      <td>Bagging</td>\n",
              "      <td>1.119007e+06</td>\n",
              "      <td>0.565445</td>\n",
              "    </tr>\n",
              "    <tr>\n",
              "      <th>2</th>\n",
              "      <td>Boosting</td>\n",
              "      <td>1.012367e+06</td>\n",
              "      <td>0.644324</td>\n",
              "    </tr>\n",
              "    <tr>\n",
              "      <th>3</th>\n",
              "      <td>Gradient Boosting</td>\n",
              "      <td>1.095379e+06</td>\n",
              "      <td>0.583603</td>\n",
              "    </tr>\n",
              "  </tbody>\n",
              "</table>\n",
              "</div>\n",
              "    <div class=\"colab-df-buttons\">\n",
              "\n",
              "  <div class=\"colab-df-container\">\n",
              "    <button class=\"colab-df-convert\" onclick=\"convertToInteractive('df-b0747978-b3d1-4201-8da1-18a774cd49b7')\"\n",
              "            title=\"Convert this dataframe to an interactive table.\"\n",
              "            style=\"display:none;\">\n",
              "\n",
              "  <svg xmlns=\"http://www.w3.org/2000/svg\" height=\"24px\" viewBox=\"0 -960 960 960\">\n",
              "    <path d=\"M120-120v-720h720v720H120Zm60-500h600v-160H180v160Zm220 220h160v-160H400v160Zm0 220h160v-160H400v160ZM180-400h160v-160H180v160Zm440 0h160v-160H620v160ZM180-180h160v-160H180v160Zm440 0h160v-160H620v160Z\"/>\n",
              "  </svg>\n",
              "    </button>\n",
              "\n",
              "  <style>\n",
              "    .colab-df-container {\n",
              "      display:flex;\n",
              "      gap: 12px;\n",
              "    }\n",
              "\n",
              "    .colab-df-convert {\n",
              "      background-color: #E8F0FE;\n",
              "      border: none;\n",
              "      border-radius: 50%;\n",
              "      cursor: pointer;\n",
              "      display: none;\n",
              "      fill: #1967D2;\n",
              "      height: 32px;\n",
              "      padding: 0 0 0 0;\n",
              "      width: 32px;\n",
              "    }\n",
              "\n",
              "    .colab-df-convert:hover {\n",
              "      background-color: #E2EBFA;\n",
              "      box-shadow: 0px 1px 2px rgba(60, 64, 67, 0.3), 0px 1px 3px 1px rgba(60, 64, 67, 0.15);\n",
              "      fill: #174EA6;\n",
              "    }\n",
              "\n",
              "    .colab-df-buttons div {\n",
              "      margin-bottom: 4px;\n",
              "    }\n",
              "\n",
              "    [theme=dark] .colab-df-convert {\n",
              "      background-color: #3B4455;\n",
              "      fill: #D2E3FC;\n",
              "    }\n",
              "\n",
              "    [theme=dark] .colab-df-convert:hover {\n",
              "      background-color: #434B5C;\n",
              "      box-shadow: 0px 1px 3px 1px rgba(0, 0, 0, 0.15);\n",
              "      filter: drop-shadow(0px 1px 2px rgba(0, 0, 0, 0.3));\n",
              "      fill: #FFFFFF;\n",
              "    }\n",
              "  </style>\n",
              "\n",
              "    <script>\n",
              "      const buttonEl =\n",
              "        document.querySelector('#df-b0747978-b3d1-4201-8da1-18a774cd49b7 button.colab-df-convert');\n",
              "      buttonEl.style.display =\n",
              "        google.colab.kernel.accessAllowed ? 'block' : 'none';\n",
              "\n",
              "      async function convertToInteractive(key) {\n",
              "        const element = document.querySelector('#df-b0747978-b3d1-4201-8da1-18a774cd49b7');\n",
              "        const dataTable =\n",
              "          await google.colab.kernel.invokeFunction('convertToInteractive',\n",
              "                                                    [key], {});\n",
              "        if (!dataTable) return;\n",
              "\n",
              "        const docLinkHtml = 'Like what you see? Visit the ' +\n",
              "          '<a target=\"_blank\" href=https://colab.research.google.com/notebooks/data_table.ipynb>data table notebook</a>'\n",
              "          + ' to learn more about interactive tables.';\n",
              "        element.innerHTML = '';\n",
              "        dataTable['output_type'] = 'display_data';\n",
              "        await google.colab.output.renderOutput(dataTable, element);\n",
              "        const docLink = document.createElement('div');\n",
              "        docLink.innerHTML = docLinkHtml;\n",
              "        element.appendChild(docLink);\n",
              "      }\n",
              "    </script>\n",
              "  </div>\n",
              "\n",
              "\n",
              "<div id=\"df-5bfba117-efad-4865-b542-577483609a67\">\n",
              "  <button class=\"colab-df-quickchart\" onclick=\"quickchart('df-5bfba117-efad-4865-b542-577483609a67')\"\n",
              "            title=\"Suggest charts\"\n",
              "            style=\"display:none;\">\n",
              "\n",
              "<svg xmlns=\"http://www.w3.org/2000/svg\" height=\"24px\"viewBox=\"0 0 24 24\"\n",
              "     width=\"24px\">\n",
              "    <g>\n",
              "        <path d=\"M19 3H5c-1.1 0-2 .9-2 2v14c0 1.1.9 2 2 2h14c1.1 0 2-.9 2-2V5c0-1.1-.9-2-2-2zM9 17H7v-7h2v7zm4 0h-2V7h2v10zm4 0h-2v-4h2v4z\"/>\n",
              "    </g>\n",
              "</svg>\n",
              "  </button>\n",
              "\n",
              "<style>\n",
              "  .colab-df-quickchart {\n",
              "      --bg-color: #E8F0FE;\n",
              "      --fill-color: #1967D2;\n",
              "      --hover-bg-color: #E2EBFA;\n",
              "      --hover-fill-color: #174EA6;\n",
              "      --disabled-fill-color: #AAA;\n",
              "      --disabled-bg-color: #DDD;\n",
              "  }\n",
              "\n",
              "  [theme=dark] .colab-df-quickchart {\n",
              "      --bg-color: #3B4455;\n",
              "      --fill-color: #D2E3FC;\n",
              "      --hover-bg-color: #434B5C;\n",
              "      --hover-fill-color: #FFFFFF;\n",
              "      --disabled-bg-color: #3B4455;\n",
              "      --disabled-fill-color: #666;\n",
              "  }\n",
              "\n",
              "  .colab-df-quickchart {\n",
              "    background-color: var(--bg-color);\n",
              "    border: none;\n",
              "    border-radius: 50%;\n",
              "    cursor: pointer;\n",
              "    display: none;\n",
              "    fill: var(--fill-color);\n",
              "    height: 32px;\n",
              "    padding: 0;\n",
              "    width: 32px;\n",
              "  }\n",
              "\n",
              "  .colab-df-quickchart:hover {\n",
              "    background-color: var(--hover-bg-color);\n",
              "    box-shadow: 0 1px 2px rgba(60, 64, 67, 0.3), 0 1px 3px 1px rgba(60, 64, 67, 0.15);\n",
              "    fill: var(--button-hover-fill-color);\n",
              "  }\n",
              "\n",
              "  .colab-df-quickchart-complete:disabled,\n",
              "  .colab-df-quickchart-complete:disabled:hover {\n",
              "    background-color: var(--disabled-bg-color);\n",
              "    fill: var(--disabled-fill-color);\n",
              "    box-shadow: none;\n",
              "  }\n",
              "\n",
              "  .colab-df-spinner {\n",
              "    border: 2px solid var(--fill-color);\n",
              "    border-color: transparent;\n",
              "    border-bottom-color: var(--fill-color);\n",
              "    animation:\n",
              "      spin 1s steps(1) infinite;\n",
              "  }\n",
              "\n",
              "  @keyframes spin {\n",
              "    0% {\n",
              "      border-color: transparent;\n",
              "      border-bottom-color: var(--fill-color);\n",
              "      border-left-color: var(--fill-color);\n",
              "    }\n",
              "    20% {\n",
              "      border-color: transparent;\n",
              "      border-left-color: var(--fill-color);\n",
              "      border-top-color: var(--fill-color);\n",
              "    }\n",
              "    30% {\n",
              "      border-color: transparent;\n",
              "      border-left-color: var(--fill-color);\n",
              "      border-top-color: var(--fill-color);\n",
              "      border-right-color: var(--fill-color);\n",
              "    }\n",
              "    40% {\n",
              "      border-color: transparent;\n",
              "      border-right-color: var(--fill-color);\n",
              "      border-top-color: var(--fill-color);\n",
              "    }\n",
              "    60% {\n",
              "      border-color: transparent;\n",
              "      border-right-color: var(--fill-color);\n",
              "    }\n",
              "    80% {\n",
              "      border-color: transparent;\n",
              "      border-right-color: var(--fill-color);\n",
              "      border-bottom-color: var(--fill-color);\n",
              "    }\n",
              "    90% {\n",
              "      border-color: transparent;\n",
              "      border-bottom-color: var(--fill-color);\n",
              "    }\n",
              "  }\n",
              "</style>\n",
              "\n",
              "  <script>\n",
              "    async function quickchart(key) {\n",
              "      const quickchartButtonEl =\n",
              "        document.querySelector('#' + key + ' button');\n",
              "      quickchartButtonEl.disabled = true;  // To prevent multiple clicks.\n",
              "      quickchartButtonEl.classList.add('colab-df-spinner');\n",
              "      try {\n",
              "        const charts = await google.colab.kernel.invokeFunction(\n",
              "            'suggestCharts', [key], {});\n",
              "      } catch (error) {\n",
              "        console.error('Error during call to suggestCharts:', error);\n",
              "      }\n",
              "      quickchartButtonEl.classList.remove('colab-df-spinner');\n",
              "      quickchartButtonEl.classList.add('colab-df-quickchart-complete');\n",
              "    }\n",
              "    (() => {\n",
              "      let quickchartButtonEl =\n",
              "        document.querySelector('#df-5bfba117-efad-4865-b542-577483609a67 button');\n",
              "      quickchartButtonEl.style.display =\n",
              "        google.colab.kernel.accessAllowed ? 'block' : 'none';\n",
              "    })();\n",
              "  </script>\n",
              "</div>\n",
              "    </div>\n",
              "  </div>\n"
            ]
          },
          "metadata": {},
          "execution_count": 8
        }
      ],
      "source": [
        "from sklearn.pipeline import Pipeline\n",
        "\n",
        "# Initialize models with a pipeline\n",
        "decision_tree = Pipeline([\n",
        "    ('preprocessor', preprocessor),\n",
        "    ('regressor', DecisionTreeRegressor(random_state=0))\n",
        "])\n",
        "\n",
        "\n",
        "# Initialize an empty DataFrame to store results\n",
        "results_df = pd.DataFrame(columns=['Model','Test RMSE', 'Test R2'])\n",
        "\n",
        "\n",
        "# Fit and evaluate models\n",
        "\n",
        "    # Train the model using the training data\n",
        "\n",
        "\n",
        "    # Predict on test data\n",
        "\n",
        "    # Calculate RMSE and R-squared\n",
        "\n",
        "\n",
        "\n",
        "\n"
      ]
    },
    {
      "cell_type": "markdown",
      "metadata": {
        "id": "JIjGPRJouxj9"
      },
      "source": [
        "3.2 Create figures to show the feature importance for the different models"
      ]
    },
    {
      "cell_type": "code",
      "execution_count": null,
      "metadata": {
        "id": "8TS4NMbXuxj-"
      },
      "outputs": [],
      "source": [
        "import matplotlib.pyplot as plt\n",
        "import numpy as np\n",
        "\n",
        "# Extract feature names after preprocessing\n",
        "\n",
        "def plot_feature_importances(model, name, feature_names, ax):\n",
        "    # Extract the regressor from the pipeline\n",
        "\n",
        "\n",
        "    # Handle BaggingRegressor and get feature importances\n",
        "\n",
        "\n",
        "    # Adjust the feature names if their number doesn't match the importances length\n",
        "\n",
        "        # Handle transformed feature names\n",
        "\n",
        "    # Plot feature importances\n",
        "\n",
        "\n",
        "# Plotting feature importances for each model\n",
        "#fig, axs = plt.subplots(len(models), figsize=(10, 5 * len(models)))\n",
        "#for ax, (name, model) in zip(axs, models.items()):\n",
        "#    plot_feature_importances(model, name, feature_names, ax)\n",
        "\n",
        "#plt.tight_layout()\n",
        "#plt.show()"
      ]
    },
    {
      "cell_type": "markdown",
      "metadata": {
        "id": "LNLVLasluxj-"
      },
      "source": [
        "**Discussion**  \n",
        "**Were the features selected similar across the different models?**"
      ]
    },
    {
      "cell_type": "markdown",
      "metadata": {
        "id": "zv6xLX7QkWdB"
      },
      "source": [
        "3.3 Compare two different approaches for prunning a decision tree (cost-complexity prunning and max leaves nodes) and plot the resulting trees."
      ]
    },
    {
      "cell_type": "code",
      "execution_count": null,
      "metadata": {
        "id": "8WVFpMLDkWdC"
      },
      "outputs": [],
      "source": [
        "from sklearn.tree import DecisionTreeRegressor, plot_tree\n",
        "from sklearn.model_selection import cross_val_score\n",
        "import matplotlib.pyplot as plt\n",
        "from sklearn.metrics import mean_squared_error, r2_score\n",
        "import math\n",
        "\n",
        "# First, fit the preprocessor on X_train\n",
        "#preprocessor.fit(X_train)\n",
        "#X_train_preprocessed = preprocessor.transform(X_train)\n",
        "\n",
        "# Train a decision tree with cost-complexity pruning\n",
        "\n",
        "\n",
        "# Train a decision tree with max leaf nodes\n",
        "\n",
        "\n",
        "# Plot the trees\n",
        "#plt.figure(figsize=(20, 10))\n",
        "#plt.subplot(1, 2, 1)\n",
        "#plot_tree(dt_ccp_pipeline.named_steps['regressor'], filled=True, feature_names=feature_names, rounded=True)\n",
        "#plt.title('Decision Tree with Cost-Complexity Pruning')\n",
        "\n",
        "#plt.subplot(1, 2, 2)\n",
        "#plot_tree(dt_max_leaf_pipeline.named_steps['regressor'], filled=True, feature_names=feature_names, rounded=True)\n",
        "#plt.title('Decision Tree with Max Leaf Nodes')\n",
        "\n",
        "#plt.show()\n",
        "\n",
        "# Evaluate the models\n",
        "#for name, model, in [(\"Cost Complexity Pruning\", dt_ccp_pipeline), (\"Max Leaf Nodes\", dt_max_leaf_pipeline)]:\n",
        "#    y_pred = model.predict(X_test)\n",
        "#    rmse = math.sqrt(mean_squared_error(y_test, y_pred))\n",
        "#    r2 = r2_score(y_test, y_pred)\n",
        " #   results_df.loc[len(results_df)] = [name, rmse, r2]\n",
        "\n",
        "#    print(f\"{name} - Test RMSE: {rmse:.3f}, Test R-squared: {r2:.3f}\")\n",
        "#results_df"
      ]
    },
    {
      "cell_type": "code",
      "execution_count": null,
      "metadata": {
        "id": "ABL60XCry7F2"
      },
      "outputs": [],
      "source": [
        "results_df"
      ]
    },
    {
      "cell_type": "code",
      "source": [],
      "metadata": {
        "id": "8U2B_IuEhXVC"
      },
      "execution_count": null,
      "outputs": []
    }
  ],
  "metadata": {
    "colab": {
      "provenance": []
    },
    "kernelspec": {
      "display_name": "Python 3 (ipykernel)",
      "language": "python",
      "name": "python3"
    },
    "language_info": {
      "codemirror_mode": {
        "name": "ipython",
        "version": 3
      },
      "file_extension": ".py",
      "mimetype": "text/x-python",
      "name": "python",
      "nbconvert_exporter": "python",
      "pygments_lexer": "ipython3",
      "version": "3.9.13"
    },
    "vscode": {
      "interpreter": {
        "hash": "c975486aa82b32d30c2438da9d14334177c2b4d93822b75ed42b1917e361f4e6"
      }
    }
  },
  "nbformat": 4,
  "nbformat_minor": 0
}